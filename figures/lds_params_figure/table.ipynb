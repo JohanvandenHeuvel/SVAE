{
 "cells": [
  {
   "cell_type": "code",
   "execution_count": 34,
   "metadata": {
    "collapsed": true,
    "pycharm": {
     "name": "#%%\n"
    }
   },
   "outputs": [],
   "source": [
    "import pandas as pd"
   ]
  },
  {
   "cell_type": "code",
   "execution_count": 35,
   "outputs": [],
   "source": [
    "data = pd.read_csv(\"runs.csv\")"
   ],
   "metadata": {
    "collapsed": false,
    "pycharm": {
     "name": "#%%\n"
    }
   }
  },
  {
   "cell_type": "code",
   "execution_count": 36,
   "outputs": [],
   "source": [
    "# take a subset\n",
    "data_df = data[[\"Tags\", \"recon_loss\"]]"
   ],
   "metadata": {
    "collapsed": false,
    "pycharm": {
     "name": "#%%\n"
    }
   }
  },
  {
   "cell_type": "code",
   "execution_count": 37,
   "outputs": [],
   "source": [
    "# replace state with number\n",
    "data_df = data_df.join(pd.get_dummies(data[\"State\"])[\"finished\"] * 100)"
   ],
   "metadata": {
    "collapsed": false,
    "pycharm": {
     "name": "#%%\n"
    }
   }
  },
  {
   "cell_type": "code",
   "execution_count": 38,
   "outputs": [
    {
     "data": {
      "text/plain": "                    recon_loss    finished\nTags                                      \n2_latent_dim         -6.627762   50.000000\n3_latent_dim         -6.668705    0.000000\nbaseline             -6.423575  100.000000\nbig_init             -6.626343   40.000000\nhalf_global          -6.496362   50.000000\nhalf_local           -6.985835  100.000000\nlatent_dim           -6.408737  100.000000\nlatent_dim, resvae   -6.701655  100.000000\nno_global            -6.443293   91.666667\nno_local            -10.927105  100.000000\nresvae               -6.588447  100.000000\nsmall_init           -6.463855   50.000000",
      "text/html": "<div>\n<style scoped>\n    .dataframe tbody tr th:only-of-type {\n        vertical-align: middle;\n    }\n\n    .dataframe tbody tr th {\n        vertical-align: top;\n    }\n\n    .dataframe thead th {\n        text-align: right;\n    }\n</style>\n<table border=\"1\" class=\"dataframe\">\n  <thead>\n    <tr style=\"text-align: right;\">\n      <th></th>\n      <th>recon_loss</th>\n      <th>finished</th>\n    </tr>\n    <tr>\n      <th>Tags</th>\n      <th></th>\n      <th></th>\n    </tr>\n  </thead>\n  <tbody>\n    <tr>\n      <th>2_latent_dim</th>\n      <td>-6.627762</td>\n      <td>50.000000</td>\n    </tr>\n    <tr>\n      <th>3_latent_dim</th>\n      <td>-6.668705</td>\n      <td>0.000000</td>\n    </tr>\n    <tr>\n      <th>baseline</th>\n      <td>-6.423575</td>\n      <td>100.000000</td>\n    </tr>\n    <tr>\n      <th>big_init</th>\n      <td>-6.626343</td>\n      <td>40.000000</td>\n    </tr>\n    <tr>\n      <th>half_global</th>\n      <td>-6.496362</td>\n      <td>50.000000</td>\n    </tr>\n    <tr>\n      <th>half_local</th>\n      <td>-6.985835</td>\n      <td>100.000000</td>\n    </tr>\n    <tr>\n      <th>latent_dim</th>\n      <td>-6.408737</td>\n      <td>100.000000</td>\n    </tr>\n    <tr>\n      <th>latent_dim, resvae</th>\n      <td>-6.701655</td>\n      <td>100.000000</td>\n    </tr>\n    <tr>\n      <th>no_global</th>\n      <td>-6.443293</td>\n      <td>91.666667</td>\n    </tr>\n    <tr>\n      <th>no_local</th>\n      <td>-10.927105</td>\n      <td>100.000000</td>\n    </tr>\n    <tr>\n      <th>resvae</th>\n      <td>-6.588447</td>\n      <td>100.000000</td>\n    </tr>\n    <tr>\n      <th>small_init</th>\n      <td>-6.463855</td>\n      <td>50.000000</td>\n    </tr>\n  </tbody>\n</table>\n</div>"
     },
     "execution_count": 38,
     "metadata": {},
     "output_type": "execute_result"
    }
   ],
   "source": [
    "# get the mean recon_loss per experiment\n",
    "data_df = data_df.groupby(by=\"Tags\").mean()\n",
    "data_df"
   ],
   "metadata": {
    "collapsed": false,
    "pycharm": {
     "name": "#%%\n"
    }
   }
  },
  {
   "cell_type": "code",
   "execution_count": 39,
   "outputs": [
    {
     "data": {
      "text/plain": "   global kld weight  local kld weight  weigt init std  latent dim  \\\n0                1.0               1.0            0.01          10   \n1                0.0               1.0            0.01          10   \n2                1.0               0.0            0.01          10   \n3                0.5               1.0            0.01          10   \n4                1.0               0.5            0.01          10   \n5                1.0               1.0            0.10          10   \n6                1.0               1.0            1.00          10   \n7                1.0               1.0            0.01           5   \n8                1.0               1.0            0.01           2   \n9                1.0               1.0            0.01           3   \n\n           tags  \n0      baseline  \n1     no_global  \n2      no_local  \n3   half_global  \n4    half_local  \n5      big_init  \n6    small_init  \n7    latent_dim  \n8  2_latent_dim  \n9  3_latent_dim  ",
      "text/html": "<div>\n<style scoped>\n    .dataframe tbody tr th:only-of-type {\n        vertical-align: middle;\n    }\n\n    .dataframe tbody tr th {\n        vertical-align: top;\n    }\n\n    .dataframe thead th {\n        text-align: right;\n    }\n</style>\n<table border=\"1\" class=\"dataframe\">\n  <thead>\n    <tr style=\"text-align: right;\">\n      <th></th>\n      <th>global kld weight</th>\n      <th>local kld weight</th>\n      <th>weigt init std</th>\n      <th>latent dim</th>\n      <th>tags</th>\n    </tr>\n  </thead>\n  <tbody>\n    <tr>\n      <th>0</th>\n      <td>1.0</td>\n      <td>1.0</td>\n      <td>0.01</td>\n      <td>10</td>\n      <td>baseline</td>\n    </tr>\n    <tr>\n      <th>1</th>\n      <td>0.0</td>\n      <td>1.0</td>\n      <td>0.01</td>\n      <td>10</td>\n      <td>no_global</td>\n    </tr>\n    <tr>\n      <th>2</th>\n      <td>1.0</td>\n      <td>0.0</td>\n      <td>0.01</td>\n      <td>10</td>\n      <td>no_local</td>\n    </tr>\n    <tr>\n      <th>3</th>\n      <td>0.5</td>\n      <td>1.0</td>\n      <td>0.01</td>\n      <td>10</td>\n      <td>half_global</td>\n    </tr>\n    <tr>\n      <th>4</th>\n      <td>1.0</td>\n      <td>0.5</td>\n      <td>0.01</td>\n      <td>10</td>\n      <td>half_local</td>\n    </tr>\n    <tr>\n      <th>5</th>\n      <td>1.0</td>\n      <td>1.0</td>\n      <td>0.10</td>\n      <td>10</td>\n      <td>big_init</td>\n    </tr>\n    <tr>\n      <th>6</th>\n      <td>1.0</td>\n      <td>1.0</td>\n      <td>1.00</td>\n      <td>10</td>\n      <td>small_init</td>\n    </tr>\n    <tr>\n      <th>7</th>\n      <td>1.0</td>\n      <td>1.0</td>\n      <td>0.01</td>\n      <td>5</td>\n      <td>latent_dim</td>\n    </tr>\n    <tr>\n      <th>8</th>\n      <td>1.0</td>\n      <td>1.0</td>\n      <td>0.01</td>\n      <td>2</td>\n      <td>2_latent_dim</td>\n    </tr>\n    <tr>\n      <th>9</th>\n      <td>1.0</td>\n      <td>1.0</td>\n      <td>0.01</td>\n      <td>3</td>\n      <td>3_latent_dim</td>\n    </tr>\n  </tbody>\n</table>\n</div>"
     },
     "execution_count": 39,
     "metadata": {},
     "output_type": "execute_result"
    }
   ],
   "source": [
    "# get the conditions for the experimental names\n",
    "experiment_names = pd.read_csv(\"experiments.csv\", sep=\";\")\n",
    "experiment_names"
   ],
   "metadata": {
    "collapsed": false,
    "pycharm": {
     "name": "#%%\n"
    }
   }
  },
  {
   "cell_type": "code",
   "execution_count": 43,
   "outputs": [
    {
     "data": {
      "text/plain": "   recon_loss    finished  global kld weight  local kld weight  \\\n0   -6.627762   50.000000                1.0               1.0   \n1   -6.668705    0.000000                1.0               1.0   \n2   -6.423575  100.000000                1.0               1.0   \n3   -6.626343   40.000000                1.0               1.0   \n4   -6.496362   50.000000                0.5               1.0   \n5   -6.985835  100.000000                1.0               0.5   \n6   -6.408737  100.000000                1.0               1.0   \n7   -6.443293   91.666667                0.0               1.0   \n8  -10.927105  100.000000                1.0               0.0   \n9   -6.463855   50.000000                1.0               1.0   \n\n   weigt init std  latent dim  \n0            0.01           2  \n1            0.01           3  \n2            0.01          10  \n3            0.10          10  \n4            0.01          10  \n5            0.01          10  \n6            0.01           5  \n7            0.01          10  \n8            0.01          10  \n9            1.00          10  ",
      "text/html": "<div>\n<style scoped>\n    .dataframe tbody tr th:only-of-type {\n        vertical-align: middle;\n    }\n\n    .dataframe tbody tr th {\n        vertical-align: top;\n    }\n\n    .dataframe thead th {\n        text-align: right;\n    }\n</style>\n<table border=\"1\" class=\"dataframe\">\n  <thead>\n    <tr style=\"text-align: right;\">\n      <th></th>\n      <th>recon_loss</th>\n      <th>finished</th>\n      <th>global kld weight</th>\n      <th>local kld weight</th>\n      <th>weigt init std</th>\n      <th>latent dim</th>\n    </tr>\n  </thead>\n  <tbody>\n    <tr>\n      <th>0</th>\n      <td>-6.627762</td>\n      <td>50.000000</td>\n      <td>1.0</td>\n      <td>1.0</td>\n      <td>0.01</td>\n      <td>2</td>\n    </tr>\n    <tr>\n      <th>1</th>\n      <td>-6.668705</td>\n      <td>0.000000</td>\n      <td>1.0</td>\n      <td>1.0</td>\n      <td>0.01</td>\n      <td>3</td>\n    </tr>\n    <tr>\n      <th>2</th>\n      <td>-6.423575</td>\n      <td>100.000000</td>\n      <td>1.0</td>\n      <td>1.0</td>\n      <td>0.01</td>\n      <td>10</td>\n    </tr>\n    <tr>\n      <th>3</th>\n      <td>-6.626343</td>\n      <td>40.000000</td>\n      <td>1.0</td>\n      <td>1.0</td>\n      <td>0.10</td>\n      <td>10</td>\n    </tr>\n    <tr>\n      <th>4</th>\n      <td>-6.496362</td>\n      <td>50.000000</td>\n      <td>0.5</td>\n      <td>1.0</td>\n      <td>0.01</td>\n      <td>10</td>\n    </tr>\n    <tr>\n      <th>5</th>\n      <td>-6.985835</td>\n      <td>100.000000</td>\n      <td>1.0</td>\n      <td>0.5</td>\n      <td>0.01</td>\n      <td>10</td>\n    </tr>\n    <tr>\n      <th>6</th>\n      <td>-6.408737</td>\n      <td>100.000000</td>\n      <td>1.0</td>\n      <td>1.0</td>\n      <td>0.01</td>\n      <td>5</td>\n    </tr>\n    <tr>\n      <th>7</th>\n      <td>-6.443293</td>\n      <td>91.666667</td>\n      <td>0.0</td>\n      <td>1.0</td>\n      <td>0.01</td>\n      <td>10</td>\n    </tr>\n    <tr>\n      <th>8</th>\n      <td>-10.927105</td>\n      <td>100.000000</td>\n      <td>1.0</td>\n      <td>0.0</td>\n      <td>0.01</td>\n      <td>10</td>\n    </tr>\n    <tr>\n      <th>9</th>\n      <td>-6.463855</td>\n      <td>50.000000</td>\n      <td>1.0</td>\n      <td>1.0</td>\n      <td>1.00</td>\n      <td>10</td>\n    </tr>\n  </tbody>\n</table>\n</div>"
     },
     "execution_count": 43,
     "metadata": {},
     "output_type": "execute_result"
    }
   ],
   "source": [
    "df = pd.merge(data_df, experiment_names, left_on=\"Tags\", right_on=\"tags\").drop([\"tags\"], axis=1)\n",
    "df"
   ],
   "metadata": {
    "collapsed": false,
    "pycharm": {
     "name": "#%%\n"
    }
   }
  },
  {
   "cell_type": "code",
   "execution_count": 45,
   "outputs": [
    {
     "name": "stdout",
     "output_type": "stream",
     "text": [
      "\\begin{tabular}{lrrrrrr}\n",
      "\\toprule\n",
      "{} &  recon\\_loss &    finished &  global kld weight &  local kld weight &  weigt init std &  latent dim \\\\\n",
      "\\midrule\n",
      "0 &   -6.627762 &   50.000000 &                1.0 &               1.0 &            0.01 &           2 \\\\\n",
      "1 &   -6.668705 &    0.000000 &                1.0 &               1.0 &            0.01 &           3 \\\\\n",
      "2 &   -6.423575 &  100.000000 &                1.0 &               1.0 &            0.01 &          10 \\\\\n",
      "3 &   -6.626343 &   40.000000 &                1.0 &               1.0 &            0.10 &          10 \\\\\n",
      "4 &   -6.496362 &   50.000000 &                0.5 &               1.0 &            0.01 &          10 \\\\\n",
      "5 &   -6.985835 &  100.000000 &                1.0 &               0.5 &            0.01 &          10 \\\\\n",
      "6 &   -6.408737 &  100.000000 &                1.0 &               1.0 &            0.01 &           5 \\\\\n",
      "7 &   -6.443293 &   91.666667 &                0.0 &               1.0 &            0.01 &          10 \\\\\n",
      "8 &  -10.927105 &  100.000000 &                1.0 &               0.0 &            0.01 &          10 \\\\\n",
      "9 &   -6.463855 &   50.000000 &                1.0 &               1.0 &            1.00 &          10 \\\\\n",
      "\\bottomrule\n",
      "\\end{tabular}\n",
      "\n"
     ]
    },
    {
     "name": "stderr",
     "output_type": "stream",
     "text": [
      "/var/folders/fs/k4s522vj1g360my72svcqhdw0000gn/T/ipykernel_3087/2621526293.py:1: FutureWarning: In future versions `DataFrame.to_latex` is expected to utilise the base implementation of `Styler.to_latex` for formatting and rendering. The arguments signature may therefore change. It is recommended instead to use `DataFrame.style.to_latex` which also contains additional functionality.\n",
      "  print(df.to_latex())\n"
     ]
    }
   ],
   "source": [
    "print(df.to_latex())"
   ],
   "metadata": {
    "collapsed": false,
    "pycharm": {
     "name": "#%%\n"
    }
   }
  },
  {
   "cell_type": "code",
   "execution_count": null,
   "outputs": [],
   "source": [],
   "metadata": {
    "collapsed": false,
    "pycharm": {
     "name": "#%%\n"
    }
   }
  }
 ],
 "metadata": {
  "kernelspec": {
   "display_name": "Python 3",
   "language": "python",
   "name": "python3"
  },
  "language_info": {
   "codemirror_mode": {
    "name": "ipython",
    "version": 2
   },
   "file_extension": ".py",
   "mimetype": "text/x-python",
   "name": "python",
   "nbconvert_exporter": "python",
   "pygments_lexer": "ipython2",
   "version": "2.7.6"
  }
 },
 "nbformat": 4,
 "nbformat_minor": 0
}